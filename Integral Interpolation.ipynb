{
 "cells": [
  {
   "cell_type": "code",
   "execution_count": 1,
   "metadata": {
    "collapsed": true
   },
   "outputs": [],
   "source": [
    "import cPickle as pkl \n",
    "import numpy as np\n",
    "f = './forcing/0_40x/f_data_tv_40.pkl'\n",
    "\n",
    "f = open(f, 'rb')\n",
    "d = pkl.load(f)\n",
    "f.close() \n"
   ]
  },
  {
   "cell_type": "code",
   "execution_count": 2,
   "metadata": {},
   "outputs": [
    {
     "data": {
      "text/plain": [
       "['dt_qg_real1',\n",
       " 'dt_qg_vadv',\n",
       " 'v_geos',\n",
       " 'lwdn_sfc',\n",
       " 'dt_ug_total',\n",
       " 'lhf_flux',\n",
       " 'dt_vg_fino',\n",
       " 'temp_vadv',\n",
       " 'temp_rad',\n",
       " 'lon_idx',\n",
       " 'temp_conv',\n",
       " 'target_lat',\n",
       " 'ps',\n",
       " 'phalf',\n",
       " 'dt_qg_total',\n",
       " 'target_lon',\n",
       " 'lon',\n",
       " 'ts',\n",
       " 'dt_qg_hadv',\n",
       " 'lwup_sfc',\n",
       " 'qflux',\n",
       " 'temp_real1',\n",
       " 'shf_flux',\n",
       " 'dt_vg_pres',\n",
       " 'rhum',\n",
       " 'dt_vg_total',\n",
       " 'dt_ug_vadv',\n",
       " 'u_geos',\n",
       " 'temp_cond',\n",
       " 'dt_ug_hadv',\n",
       " 'flux_lwdn',\n",
       " 'swdn_toa',\n",
       " 'dt_ug_fino',\n",
       " 'dt_ug_real1',\n",
       " 'lat',\n",
       " 'alpha',\n",
       " 'dt_vg_cori',\n",
       " 'shum',\n",
       " 'omega',\n",
       " 'dt_ug_cori',\n",
       " 'temp_diffusion',\n",
       " 'dt_vg_real1',\n",
       " 'swdn_sfc',\n",
       " 'temp',\n",
       " 'zfull',\n",
       " 'zhalf',\n",
       " 'temp_fino',\n",
       " 'temp_hadv',\n",
       " 'dt_qg_param',\n",
       " 'dt_ug_pres',\n",
       " 'flux_lwup',\n",
       " 'dt_vg_vadv',\n",
       " 'virtual_temperature',\n",
       " 'temp_param',\n",
       " 'temp_total',\n",
       " 'u',\n",
       " 'v',\n",
       " 'lat_idx',\n",
       " 'dt_vg_hadv',\n",
       " 'pfull']"
      ]
     },
     "execution_count": 2,
     "metadata": {},
     "output_type": "execute_result"
    }
   ],
   "source": [
    "d.keys() "
   ]
  },
  {
   "cell_type": "code",
   "execution_count": 3,
   "metadata": {},
   "outputs": [
    {
     "name": "stdout",
     "output_type": "stream",
     "text": [
      "(200, 31)\n"
     ]
    }
   ],
   "source": [
    "print np.shape(d['phalf']) "
   ]
  },
  {
   "cell_type": "code",
   "execution_count": 23,
   "metadata": {},
   "outputs": [],
   "source": [
    "def sigma_integral(p_half, variable): \n",
    "  int_var = np.zeros(p_half.shape[0], dtype=np.double)\n",
    "  for k in range(variable.shape[0]-1, -1, -1):\n",
    "    dsigma = -(p_half[k] - p_half[k+1])/9.81\n",
    "    int_var[k] = int_var[k+1] + variable[k] * dsigma\n",
    "    \n",
    "  return int_var\n",
    "\n",
    "\n",
    "def conserv_interp(p_half, z_half, variable, z_out, imetl): \n",
    "    \n",
    "    int_var = sigma_integral(p_half, variable)\n",
    "    \n",
    "    \n",
    "    int_var_interp = np.interp(z_out[:], z_half[::-1], int_var[::-1])\n",
    "    \n",
    "    print z_out.shape\n",
    "    print z_half.shape\n",
    "    print int_var_interp.shape\n",
    "    \n",
    "\n",
    "    \n",
    "    return \n",
    "\n",
    "    "
   ]
  },
  {
   "cell_type": "code",
   "execution_count": 5,
   "metadata": {},
   "outputs": [
    {
     "name": "stdout",
     "output_type": "stream",
     "text": [
      "[  5.56469822e-05  -8.83586254e-05   3.64621461e-04   3.17670405e-04\n",
      "   2.08042708e-04  -3.01327859e-03   1.78564934e-03   1.17314458e-02\n",
      "   2.19663624e-02   2.00447999e-02   6.69845613e-03   9.69840959e-03\n",
      "   7.28984736e-03  -2.58299668e-04  -4.71630041e-03  -5.92901465e-03\n",
      "  -3.74541874e-03   1.41973782e-03   7.33643724e-03   1.05112409e-02\n",
      "   1.22721335e-02   1.32830599e-02   1.19600277e-02   9.98193678e-03\n",
      "   8.15410167e-03   6.33402960e-03   4.63726930e-03   2.90023279e-03\n",
      "   1.15492556e-03  -5.25132578e-04]\n",
      "[ 92.32007599  22.15403557  10.97437572   6.29519176   4.02665854\n",
      "   2.84917355   2.1441648    1.72084296   1.46458137   1.31220615\n",
      "   1.20618606   1.12930179   1.07296002   1.03096199   0.99920553\n",
      "   0.97465479   0.95520586   0.93927366   0.92567909   0.91363651\n",
      "   0.90232795   0.89164507   0.88221318   0.87370312   0.8653633\n",
      "   0.85716611   0.84907824   0.841088     0.83319616   0.82543117\n",
      "   0.82934946]\n",
      "(31,)\n"
     ]
    }
   ],
   "source": [
    "T = d['omega'][0,:-1]\n",
    "\n",
    "print T \n",
    "\n",
    "p_half = d['phalf'][0,:]\n",
    "z_half = d['zhalf'][0,:] \n",
    "alpha = d['alpha'][0,:]\n",
    "print alpha\n",
    "print z_half.shape"
   ]
  },
  {
   "cell_type": "code",
   "execution_count": 7,
   "metadata": {},
   "outputs": [],
   "source": [
    "int_T = sigma_integral(p_half, T) "
   ]
  },
  {
   "cell_type": "code",
   "execution_count": 8,
   "metadata": {},
   "outputs": [
    {
     "data": {
      "image/png": "[encoded data removed]",
      "text/plain": [
       "<matplotlib.figure.Figure at 0x106fa4cd0>"
      ]
     },
     "metadata": {},
     "output_type": "display_data"
    }
   ],
   "source": [
    "import pylab as plt\n",
    "plt.plot(int_T)\n",
    "plt.show() "
   ]
  },
  {
   "cell_type": "code",
   "execution_count": 12,
   "metadata": {},
   "outputs": [
    {
     "name": "stdout",
     "output_type": "stream",
     "text": [
      "[   10.            55.22727273   100.45454545   145.68181818   190.90909091\n",
      "   236.13636364   281.36363636   326.59090909   371.81818182   417.04545455\n",
      "   462.27272727   507.5          552.72727273   597.95454545   643.18181818\n",
      "   688.40909091   733.63636364   778.86363636   824.09090909   869.31818182\n",
      "   914.54545455   959.77272727  1005.          1050.22727273  1095.45454545\n",
      "  1140.68181818  1185.90909091  1231.13636364  1276.36363636  1321.59090909\n",
      "  1366.81818182  1412.04545455  1457.27272727  1502.5         1547.72727273\n",
      "  1592.95454545  1638.18181818  1683.40909091  1728.63636364  1773.86363636\n",
      "  1819.09090909  1864.31818182  1909.54545455  1954.77272727  2000.        ] [     0.            112.15596008    223.86776733    335.1473999\n",
      "    446.01733398    556.54284668    666.88745117    777.40216064\n",
      "    888.75128174   1002.17828369   1119.68518066   1244.20373535\n",
      "   1380.03723145   1533.37438965   1712.76452637   1929.70336914\n",
      "   2199.23925781   2540.54321289   2977.41137695   3538.40795898\n",
      "   4256.66894531   5168.44482422   6313.55224609   7759.09570312\n",
      "   9586.57128906  11884.68066406  14711.06054688  18189.56640625\n",
      "  22427.4296875   27621.59179688] [  0.          -0.0712794    0.08340969   0.46672832   1.07162518\n",
      "   1.88751586   2.92620145   4.18751322   5.69550843   7.38352165\n",
      "   8.98003857  10.41112869  11.48656457  11.71809734  11.01542865\n",
      "   9.69713325   8.42626592   8.34084877  11.30558872  16.11744204\n",
      "  20.10069704  34.00570743  51.1448861   60.97232164  62.48835169\n",
      "  60.07147815  60.21629983  60.38967235  60.52789316  60.50773875]\n",
      "-0.000527083312318\n"
     ]
    }
   ],
   "source": [
    "zles = np.linspace(0+10,2000, 45)\n",
    "print zles, z_half[1:][::-1], int_T[1:][::-1]\n",
    "int_T_les = np.interp(zles, z_half[1:][::-1] , int_T[1:][::-1])\n",
    "\n",
    "print (int_T_les[1] - int_T_les[0])/(zles[1] - zles[0])*alpha[-1]"
   ]
  },
  {
   "cell_type": "code",
   "execution_count": 24,
   "metadata": {},
   "outputs": [
    {
     "name": "stdout",
     "output_type": "stream",
     "text": [
      "(45,)\n",
      "(31,)\n",
      "(45,)\n"
     ]
    }
   ],
   "source": [
    "imetl = np.zeros(zles.shape[0])\n",
    "conserv_interp(p_half, z_half, T, zles, imetl)"
   ]
  },
  {
   "cell_type": "code",
   "execution_count": null,
   "metadata": {
    "collapsed": true
   },
   "outputs": [],
   "source": []
  }
 ],
 "metadata": {
  "kernelspec": {
   "display_name": "Python 2",
   "language": "python",
   "name": "python2"
  },
  "language_info": {
   "codemirror_mode": {
    "name": "ipython",
    "version": 2
   },
   "file_extension": ".py",
   "mimetype": "text/x-python",
   "name": "python",
   "nbconvert_exporter": "python",
   "pygments_lexer": "ipython2",
   "version": "2.7.13"
  }
 },
 "nbformat": 4,
 "nbformat_minor": 2
}
